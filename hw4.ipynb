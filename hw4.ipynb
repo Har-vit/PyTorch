{
  "nbformat": 4,
  "nbformat_minor": 0,
  "metadata": {
    "accelerator": "GPU",
    "colab": {
      "name": "hw4.ipynb",
      "provenance": [],
      "collapsed_sections": []
    },
    "kernelspec": {
      "display_name": "Python 3",
      "language": "python",
      "name": "python3"
    },
    "language_info": {
      "codemirror_mode": {
        "name": "ipython",
        "version": 3
      },
      "file_extension": ".py",
      "mimetype": "text/x-python",
      "name": "python",
      "nbconvert_exporter": "python",
      "pygments_lexer": "ipython3",
      "version": "3.8.8"
    }
  },
  "cells": [
    {
      "cell_type": "markdown",
      "metadata": {
        "id": "Pl55iWftXLFX"
      },
      "source": [
        "## Фреймворк PyTorch для разработки искусственных нейронных сетей\n",
        "### Урок 4. Generative adversarial networks (GAN): генеративные сети"
      ]
    },
    {
      "cell_type": "code",
      "metadata": {
        "colab": {
          "base_uri": "https://localhost:8080/",
          "height": 17
        },
        "id": "t_KWwBpMhxvR",
        "outputId": "ad8723f8-3f70-4fa3-ff98-d4212bd8338e"
      },
      "source": [
        "from IPython.core.display import display, HTML, Image\n",
        "display(HTML(\"<style>.container { width:77% !important; }</style>\"))"
      ],
      "execution_count": 1,
      "outputs": [
        {
          "output_type": "display_data",
          "data": {
            "text/html": [
              "<style>.container { width:77% !important; }</style>"
            ],
            "text/plain": [
              "<IPython.core.display.HTML object>"
            ]
          },
          "metadata": {
            "tags": []
          }
        }
      ]
    },
    {
      "cell_type": "code",
      "metadata": {
        "id": "Ss-04QeTW_BN"
      },
      "source": [
        "import os\n",
        "import numpy as np\n",
        "import pandas as pd\n",
        "import math\n",
        "\n",
        "from torch.utils.data import DataLoader, Dataset, TensorDataset\n",
        "import torchvision\n",
        "import torchvision.transforms as transforms\n",
        "from torchvision import datasets\n",
        "from torch.autograd import Variable\n",
        "\n",
        "import torch.nn as nn\n",
        "import torch\n",
        "\n",
        "########### Вывод изображений и сохранение ################################\n",
        "import matplotlib.pyplot as plt\n",
        "%matplotlib inline\n",
        "from IPython import display\n",
        "from torchvision.utils import save_image, make_grid"
      ],
      "execution_count": 2,
      "outputs": []
    },
    {
      "cell_type": "code",
      "metadata": {
        "id": "VOqMNVE_hxvS"
      },
      "source": [
        "plt.rcParams.update({'font.size': 14})\n",
        "pd.set_option('precision', 3)\n",
        "pd.set_option('max_columns', 100)\n",
        "pd.set_option('display.float_format', lambda x: '%.5f' % x)\n",
        "pd.set_option('display.max_columns', 500)\n",
        "pd.set_option('display.max_rows', 500)\n",
        "pd.set_option('max_colwidth', 300)"
      ],
      "execution_count": 3,
      "outputs": []
    },
    {
      "cell_type": "code",
      "metadata": {
        "colab": {
          "base_uri": "https://localhost:8080/"
        },
        "id": "iAhgmt-egGaL",
        "outputId": "4ec0721e-04b6-44c9-a2bb-958c86cca3cc"
      },
      "source": [
        "use_cuda = torch.cuda.is_available()\n",
        "device = torch.device('cuda') if torch.cuda.is_available() else torch.device('cpu')\n",
        "print(device)"
      ],
      "execution_count": 4,
      "outputs": [
        {
          "output_type": "stream",
          "text": [
            "cuda\n"
          ],
          "name": "stdout"
        }
      ]
    },
    {
      "cell_type": "markdown",
      "metadata": {
        "id": "G3P8Y4XHXYW-"
      },
      "source": [
        "**1. Обучить генератор создавать точки, которые будут лежать на графике функции $y = \\frac{sin(x)}{x} - \\frac{x}{10}$. При выполненинии данного задания структура GAN остается той же, но Вам нужно:**\n",
        " * Сгенерировать настоящие данные\n",
        " * Изменить архитектуру дискриминатора и генератора\n",
        " * Построить графики"
      ]
    },
    {
      "cell_type": "code",
      "metadata": {
        "id": "RPmHeUZbhxvT"
      },
      "source": [
        "# Функция linspace() возвращает одномерный массив из указанного количества элементов, значения которых равномерно распределенны внутри заданного интервала.\n",
        "x = np.linspace(1, 30, 1000)\n",
        "def func_y(x):\n",
        "    return np.sin(x)/x - x/10\n",
        "# print(\"Func_y:\", func_y(x))    "
      ],
      "execution_count": 5,
      "outputs": []
    },
    {
      "cell_type": "code",
      "metadata": {
        "id": "RaqePwmSdIjn"
      },
      "source": [
        "dataset = func_y(x)"
      ],
      "execution_count": 6,
      "outputs": []
    },
    {
      "cell_type": "code",
      "metadata": {
        "colab": {
          "base_uri": "https://localhost:8080/",
          "height": 289
        },
        "id": "7n0yeb8DdwRf",
        "outputId": "d439dfcd-9dad-4abf-b632-3972c15512df"
      },
      "source": [
        "plt.plot(dataset, 'r')\n",
        "\n",
        "plt.grid(color=\"lightgrey\")\n",
        "plt.title('Исходная последовательность' )\n",
        "plt.show()"
      ],
      "execution_count": 7,
      "outputs": [
        {
          "output_type": "display_data",
          "data": {
            "image/png": "[encoded data removed]",
            "text/plain": [
              "<Figure size 432x288 with 1 Axes>"
            ]
          },
          "metadata": {
            "tags": [],
            "needs_background": "light"
          }
        }
      ]
    },
    {
      "cell_type": "markdown",
      "metadata": {
        "id": "YfN669P2V1_J"
      },
      "source": [
        "### Preparing the Training Data"
      ]
    },
    {
      "cell_type": "code",
      "metadata": {
        "id": "DuKkdmUJqums"
      },
      "source": [
        "class build_dataset(Dataset):\n",
        "    def __init__(self, d_border, u_border, point_number):\n",
        "        x = np.linspace(d_border, u_border, point_number)\n",
        "        if 0 in x:\n",
        "            x[x == 0] = 0.00001\n",
        "        self.data = x\n",
        "        self.labels = np.sin(x)/x - x/10\n",
        "\n",
        "\n",
        "    def __len__(self):\n",
        "        return len(self.data) \n",
        "    \n",
        "    \n",
        "    def __getitem__(self, idx):\n",
        "        item = self.data[idx]\n",
        "        label = self.labels[idx]\n",
        "        return (item, label)"
      ],
      "execution_count": 8,
      "outputs": []
    },
    {
      "cell_type": "code",
      "metadata": {
        "id": "fZkuR7dFhxvV"
      },
      "source": [
        "dataset = build_dataset(1, 30, 1000)"
      ],
      "execution_count": 9,
      "outputs": []
    },
    {
      "cell_type": "code",
      "metadata": {
        "id": "VcO3ggzPhxvV"
      },
      "source": [
        "batch_size = 16\n",
        "\n",
        "train_dataset, test_dataset = torch.utils.data.random_split(dataset, [int(0.75*len(dataset)),\n",
        "                                                                      len(dataset) - int(0.75*len(dataset))])\n",
        "train_loader = DataLoader(train_dataset, batch_size = 16, shuffle=True)\n",
        "test_loader = DataLoader(test_dataset, batch_size = 1, shuffle=True)"
      ],
      "execution_count": 10,
      "outputs": []
    },
    {
      "cell_type": "markdown",
      "metadata": {
        "id": "wxT6TnO_mory"
      },
      "source": [
        "### Implementing the Discriminator"
      ]
    },
    {
      "cell_type": "code",
      "metadata": {
        "id": "NZHsh_DSmlY0"
      },
      "source": [
        "class Discriminator(nn.Module):\n",
        "    def __init__(self):\n",
        "        super().__init__()\n",
        "        self.model = nn.Sequential(\n",
        "            nn.Linear(1, 256),\n",
        "            nn.ReLU(),\n",
        "            nn.Dropout(0.3),\n",
        "            nn.Linear(256, 128),\n",
        "            nn.ReLU(),\n",
        "            nn.Dropout(0.3),\n",
        "            nn.Linear(128, 64),\n",
        "            nn.ReLU(),\n",
        "            nn.Dropout(0.3),\n",
        "            nn.Linear(64, 1),\n",
        "            nn.Sigmoid(),\n",
        "        )\n",
        "\n",
        "    def forward(self, x):\n",
        "        output = self.model(x)\n",
        "        return output"
      ],
      "execution_count": 11,
      "outputs": []
    },
    {
      "cell_type": "code",
      "metadata": {
        "id": "R6VdfD2LhxvW"
      },
      "source": [
        "discriminator = Discriminator().to(device)"
      ],
      "execution_count": 12,
      "outputs": []
    },
    {
      "cell_type": "markdown",
      "metadata": {
        "id": "uGFtHqdOiLGp"
      },
      "source": [
        "### Implementing the Generator"
      ]
    },
    {
      "cell_type": "code",
      "metadata": {
        "id": "QNeV7YSkgiwJ"
      },
      "source": [
        "class Generator(nn.Module):\n",
        "    def __init__(self):\n",
        "        super().__init__()\n",
        "        self.model = nn.Sequential(\n",
        "            nn.Linear(1, 16),\n",
        "            nn.ReLU(),\n",
        "            nn.Linear(16, 32),\n",
        "            nn.ReLU(),\n",
        "            nn.Linear(32, 1),\n",
        "        )\n",
        "\n",
        "    def forward(self, x):\n",
        "        output = self.model(x)\n",
        "        return output"
      ],
      "execution_count": 13,
      "outputs": []
    },
    {
      "cell_type": "code",
      "metadata": {
        "id": "RvTFWkilhxvX"
      },
      "source": [
        "generator = Generator().to(device)"
      ],
      "execution_count": 14,
      "outputs": []
    },
    {
      "cell_type": "markdown",
      "metadata": {
        "id": "gATWYVHMzJbG"
      },
      "source": [
        "### Training the Models"
      ]
    },
    {
      "cell_type": "code",
      "metadata": {
        "id": "UaMb3gMCzP4X"
      },
      "source": [
        "lr = 0.0001\n",
        "\n",
        "b1 = 0.5\n",
        "b2 = 0.999\n",
        "\n",
        "sample_interval = 50\n",
        "\n",
        "loss_function = nn.BCELoss()"
      ],
      "execution_count": 15,
      "outputs": []
    },
    {
      "cell_type": "code",
      "metadata": {
        "id": "0jEyb2BJp6wd"
      },
      "source": [
        "# Для каждой нейронки свой опитимизатор\n",
        "optimizer_G = torch.optim.Adam(generator.parameters(), lr=lr, betas=(b1, b2))\n",
        "optimizer_D = torch.optim.Adam(discriminator.parameters(), lr=lr, betas=(b1, b2))"
      ],
      "execution_count": 16,
      "outputs": []
    },
    {
      "cell_type": "code",
      "metadata": {
        "id": "Ge_l9rEDhxvX"
      },
      "source": [
        "d_loss_history = []\n",
        "g_loss_history = []"
      ],
      "execution_count": 17,
      "outputs": []
    },
    {
      "cell_type": "code",
      "metadata": {
        "colab": {
          "base_uri": "https://localhost:8080/"
        },
        "id": "WfHzZjfahxvY",
        "outputId": "edeae980-b3c4-4d0f-9216-ec17dfe51cd6"
      },
      "source": [
        "idx = torch.randperm(16)\n",
        "idx"
      ],
      "execution_count": 18,
      "outputs": [
        {
          "output_type": "execute_result",
          "data": {
            "text/plain": [
              "tensor([ 1,  3,  8,  0, 13, 14, 11,  7,  9, 10,  6,  4, 15, 12,  5,  2])"
            ]
          },
          "metadata": {
            "tags": []
          },
          "execution_count": 18
        }
      ]
    },
    {
      "cell_type": "code",
      "metadata": {
        "colab": {
          "base_uri": "https://localhost:8080/"
        },
        "id": "ZLlcqYUmhxvY",
        "outputId": "dce138f8-3509-4ceb-d706-1ff2ed3aec76"
      },
      "source": [
        "for epoch in range(1):\n",
        "    for i, (number, labels) in enumerate(train_loader):\n",
        "\n",
        "##################### Лейблы для данных: 1 - настоящие, 0 - сгенерированные ########\n",
        "\n",
        "        valid = Variable(torch.FloatTensor(batch_size, 1).fill_(1.0), requires_grad=False).to(device)\n",
        "        fake = Variable(torch.FloatTensor(batch_size, 1).fill_(0.0), requires_grad=False).to(device)\n",
        "\n",
        "        real_number = Variable(number.type(torch.FloatTensor)).to(device)\n",
        "\n",
        "        #генерация шума\n",
        "        idx = torch.randperm(batch_size)\n",
        "        z = Variable(number[idx].type(torch.FloatTensor)).to(device)\n",
        "\n",
        "        print(f\"real_number: {real_number}\")\n",
        "        # print(f\"{z.shape}\")\n",
        "        print(f\"z: {z.view(16, 1)}\")\n",
        "        print(f\"{z.view(16, 1).shape}\")\n",
        "        # print(f\"z: {z}\")\n",
        "        # print(f\"real_number + z: {real_number + z}\")\n",
        "        print(f\"valid.shape: {valid.shape}\")\n",
        "        print(f\"fake.shape: {fake.shape}\")\n",
        "\n",
        "        break\n",
        "    break"
      ],
      "execution_count": 19,
      "outputs": [
        {
          "output_type": "stream",
          "text": [
            "real_number: tensor([24.0490,  2.5676, 22.5686, 23.6717, 29.5355, 23.9329,  2.0741, 23.6136,\n",
            "        12.6987,  8.4024,  1.2903,  1.3483, 24.2523, 17.6046,  9.5345, 14.0631],\n",
            "       device='cuda:0')\n",
            "z: tensor([[14.0631],\n",
            "        [22.5686],\n",
            "        [ 2.0741],\n",
            "        [ 2.5676],\n",
            "        [23.6717],\n",
            "        [29.5355],\n",
            "        [24.2523],\n",
            "        [ 8.4024],\n",
            "        [ 1.3483],\n",
            "        [23.9329],\n",
            "        [ 1.2903],\n",
            "        [23.6136],\n",
            "        [17.6046],\n",
            "        [12.6987],\n",
            "        [ 9.5345],\n",
            "        [24.0490]], device='cuda:0')\n",
            "torch.Size([16, 1])\n",
            "valid.shape: torch.Size([16, 1])\n",
            "fake.shape: torch.Size([16, 1])\n"
          ],
          "name": "stdout"
        }
      ]
    },
    {
      "cell_type": "code",
      "metadata": {
        "colab": {
          "base_uri": "https://localhost:8080/",
          "height": 286
        },
        "id": "5VVLOYp4hxvZ",
        "outputId": "08eb41b8-5ec7-456f-ab91-a34e9463bb3b"
      },
      "source": [
        "import matplotlib.patches as mpatches\n",
        "\n",
        "red_patch = mpatches.Patch(color='red', label='D loss')\n",
        "green_patch = mpatches.Patch(color='green', label='G loss')\n",
        "\n",
        "g_loss_p = 1000\n",
        "ep_loss = 0\n",
        "n_epochs = 500\n",
        "\n",
        "for epoch in range(n_epochs):\n",
        "    for i, (number, labels) in enumerate(train_loader):\n",
        "\n",
        "##################### Лейблы для данных: 1 - настоящие, 0 - сгенерированные ########\n",
        "\n",
        "        valid = Variable(torch.FloatTensor(len(number), 1).fill_(1.0), requires_grad=False).to(device)\n",
        "        fake = Variable(torch.FloatTensor(len(labels), 1).fill_(0.0), requires_grad=False).to(device)\n",
        "#         valid = valid.detach().numpy()\n",
        "\n",
        "        real_numbers = Variable(number.type(torch.FloatTensor)).to(device)\n",
        "\n",
        "######################  Тренировка генератора    ##########################\n",
        "\n",
        "        optimizer_G.zero_grad()\n",
        "    \n",
        "        #генерация шума\n",
        "        idx = torch.randperm(len(number))\n",
        "        z = Variable(number[idx].type(torch.FloatTensor)).to(device)\n",
        "\n",
        "        gen_numbers = generator(z.view(len(z), 1))\n",
        "\n",
        "        validity = discriminator(gen_numbers)\n",
        "        g_loss = loss_function(validity, valid)\n",
        "        \n",
        "        g_loss.backward()\n",
        "        optimizer_G.step()\n",
        "\n",
        "        if g_loss < g_loss_p:\n",
        "            torch.save(generator.state_dict(), \"series_gan_loss_min.pth\")\n",
        "            g_loss_p = g_loss\n",
        "            ep_loss = epoch\n",
        "\n",
        "######################  Тренировка дискриминатора    ##########################\n",
        "\n",
        "        optimizer_D.zero_grad()\n",
        "\n",
        "        real_pred = discriminator(labels.view(len(labels), 1).type(torch.FloatTensor).to(device))\n",
        "        d_real_loss = loss_function(real_pred, valid)\n",
        "\n",
        "        fake_pred = discriminator(gen_numbers.detach())\n",
        "        d_fake_loss = loss_function(fake_pred, fake)\n",
        "\n",
        "        d_loss = (d_real_loss + d_fake_loss) / 2\n",
        "\n",
        "        d_loss.backward()\n",
        "        optimizer_D.step()\n",
        "        \n",
        "######## Отображение процесса обучения и вывод функций потерь ############\n",
        "\n",
        "        batches_done = epoch * len(train_loader) + i\n",
        "    \n",
        "        if batches_done % sample_interval == 0:\n",
        "            plt.clf()\n",
        "            \n",
        "            display.clear_output(wait=False)\n",
        "            # sample_image(gen_imgs)\n",
        "            print(\"[Epoch %d/%d] [Batch %d/%d] [D loss: %f] [G loss: %f]\"% (epoch, n_epochs, i, len(train_loader), d_loss.item(), g_loss.item()) ) \n",
        "            \n",
        "            # display.display(plt.gcf())\n",
        "\n",
        "            d_loss_history.append(d_loss)\n",
        "            g_loss_history.append(g_loss)\n",
        "\n",
        "            plt.plot(np.log(np.array(d_loss_history)), label='D loss', color = 'red')\n",
        "            plt.plot(np.log(np.array(g_loss_history)), label='G loss', color = 'green')\n",
        "            plt.legend(handles=[red_patch, green_patch])\n",
        "            plt.show()"
      ],
      "execution_count": 20,
      "outputs": [
        {
          "output_type": "stream",
          "text": [
            "[Epoch 498/500] [Batch 44/47] [D loss: 0.694427] [G loss: 0.695317]\n"
          ],
          "name": "stdout"
        },
        {
          "output_type": "display_data",
          "data": {
            "image/png": "[encoded data removed]",
            "text/plain": [
              "<Figure size 432x288 with 1 Axes>"
            ]
          },
          "metadata": {
            "tags": [],
            "needs_background": "light"
          }
        }
      ]
    },
    {
      "cell_type": "code",
      "metadata": {
        "id": "mqCmrP9PhxvZ"
      },
      "source": [
        "torch.save(generator.state_dict(), \"series_gan.pth\")"
      ],
      "execution_count": 21,
      "outputs": []
    },
    {
      "cell_type": "code",
      "metadata": {
        "colab": {
          "base_uri": "https://localhost:8080/"
        },
        "id": "ZOOQYH8PhxvZ",
        "outputId": "f05b8751-dd31-4849-8fa2-a3bde9b63f31"
      },
      "source": [
        "generator_r = Generator().to(device)\n",
        "generator_r.load_state_dict(torch.load(\"series_gan_loss_min.pth\"))"
      ],
      "execution_count": 22,
      "outputs": [
        {
          "output_type": "execute_result",
          "data": {
            "text/plain": [
              "<All keys matched successfully>"
            ]
          },
          "metadata": {
            "tags": []
          },
          "execution_count": 22
        }
      ]
    },
    {
      "cell_type": "code",
      "metadata": {
        "colab": {
          "base_uri": "https://localhost:8080/",
          "height": 35
        },
        "id": "ozHBJ1ODhxva",
        "outputId": "e22c6a29-b0fe-4f6d-8cd9-afbaed0ead9f"
      },
      "source": [
        "x =  np.linspace(1, 30, 1000)\n",
        "xt = torch.from_numpy(x).type(torch.FloatTensor).to(device)\n",
        "xt.type()"
      ],
      "execution_count": 23,
      "outputs": [
        {
          "output_type": "execute_result",
          "data": {
            "application/vnd.google.colaboratory.intrinsic+json": {
              "type": "string"
            },
            "text/plain": [
              "'torch.cuda.FloatTensor'"
            ]
          },
          "metadata": {
            "tags": []
          },
          "execution_count": 23
        }
      ]
    },
    {
      "cell_type": "code",
      "metadata": {
        "id": "pAjtbn6Nhxva"
      },
      "source": [
        "gen_numbers = generator_r(xt.view(len(x), 1))"
      ],
      "execution_count": 24,
      "outputs": []
    },
    {
      "cell_type": "code",
      "metadata": {
        "colab": {
          "base_uri": "https://localhost:8080/",
          "height": 289
        },
        "id": "CYwmCv2Ghxva",
        "outputId": "103ce755-8842-41da-ef5b-fa7c61cc6b63"
      },
      "source": [
        "plt.plot(x, gen_numbers.detach().cpu().numpy(), 'r', label=f\"After {ep_loss} epoch(s)\")\n",
        "plt.plot(x, func_y(x), 'g', label=f\"func_y(x)\")\n",
        "\n",
        "plt.legend(loc=\"lower left\")\n",
        "plt.grid(color=\"lightgrey\")\n",
        "plt.title(f'Epoch(s) min loss {ep_loss}')\n",
        "plt.show()"
      ],
      "execution_count": 25,
      "outputs": [
        {
          "output_type": "display_data",
          "data": {
            "image/png": "[encoded data removed]",
            "text/plain": [
              "<Figure size 432x288 with 1 Axes>"
            ]
          },
          "metadata": {
            "tags": [],
            "needs_background": "light"
          }
        }
      ]
    },
    {
      "cell_type": "code",
      "metadata": {
        "colab": {
          "base_uri": "https://localhost:8080/",
          "height": 289
        },
        "id": "UnpEXP6Fie_v",
        "outputId": "0eb701ec-5dc4-41c4-927a-dd9cd77919db"
      },
      "source": [
        "generator_f = Generator().to(device)\n",
        "generator_f.load_state_dict(torch.load(\"series_gan.pth\"))\n",
        "\n",
        "gen_numbers_f = generator_f(xt.view(len(x), 1))\n",
        "\n",
        "plt.plot(x, gen_numbers_f.detach().cpu().numpy(), 'r', label=f\"After {n_epochs} epoch(s)\")\n",
        "plt.plot(x, func_y(x), 'g', label=f\"func_y(x)\")\n",
        "\n",
        "plt.legend(loc=\"lower left\")\n",
        "plt.grid(color=\"lightgrey\")\n",
        "plt.title('Result' )\n",
        "plt.show()"
      ],
      "execution_count": 26,
      "outputs": [
        {
          "output_type": "display_data",
          "data": {
            "image/png": "[encoded data removed]",
            "text/plain": [
              "<Figure size 432x288 with 1 Axes>"
            ]
          },
          "metadata": {
            "tags": [],
            "needs_background": "light"
          }
        }
      ]
    },
    {
      "cell_type": "code",
      "metadata": {
        "id": "sZZiNvDAiiBK"
      },
      "source": [
        "x_test = []\n",
        "y_test = []\n",
        "\n",
        "for x, y in test_loader:\n",
        "    x_test.append(x), y_test.append(y)"
      ],
      "execution_count": 27,
      "outputs": []
    },
    {
      "cell_type": "code",
      "metadata": {
        "id": "dv-06ZHCijr0"
      },
      "source": [
        "xt = torch.FloatTensor(x_test).to(device)\n",
        "gen_numbers_t = generator_f(xt.view(len(x_test), 1))"
      ],
      "execution_count": 28,
      "outputs": []
    },
    {
      "cell_type": "code",
      "metadata": {
        "colab": {
          "base_uri": "https://localhost:8080/",
          "height": 289
        },
        "id": "5YHVVAVgilid",
        "outputId": "d4a84d6c-7085-4fdd-9107-c2d2681b831c"
      },
      "source": [
        "plt.plot(x_test, gen_numbers_t.detach().cpu().numpy(), 'ro', label=f\"After {n_epochs} epoch(s)\")\n",
        "plt.plot(x_test, y_test, 'go', label=f\"test_dataset\")\n",
        "\n",
        "plt.legend(loc=\"lower left\")\n",
        "plt.grid(color=\"lightgrey\")\n",
        "plt.title('Result' )\n",
        "plt.show()"
      ],
      "execution_count": 29,
      "outputs": [
        {
          "output_type": "display_data",
          "data": {
            "image/png": "[encoded data removed]",
            "text/plain": [
              "<Figure size 432x288 with 1 Axes>"
            ]
          },
          "metadata": {
            "tags": [],
            "needs_background": "light"
          }
        }
      ]
    }
  ]
}